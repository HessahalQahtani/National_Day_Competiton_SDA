{
 "cells": [
  {
   "cell_type": "code",
   "execution_count": 1,
   "id": "28ea9aff",
   "metadata": {},
   "outputs": [],
   "source": [
    "import pandas as pd\n",
    "from googletrans import Translator"
   ]
  },
  {
   "cell_type": "code",
   "execution_count": 2,
   "id": "b849586d",
   "metadata": {},
   "outputs": [],
   "source": [
    "#Translate function\n",
    "def translate_text(text, target_language):\n",
    "    translator = Translator()\n",
    "    translation = translator.translate(text, dest=target_language)\n",
    "    return translation.text"
   ]
  },
  {
   "cell_type": "code",
   "execution_count": 3,
   "id": "9328be5b",
   "metadata": {},
   "outputs": [
    {
     "name": "stdout",
     "output_type": "stream",
     "text": [
      "               a1  Oil production, 2022  Global rank  Available data a2\n",
      "0             USA              11884.15            1            2022  a\n",
      "1    Saudi Arabia              10644.39            2            2022  a\n",
      "2          Russia              10278.37            3            2022  a\n",
      "3          Canada               4551.35            4            2022  a\n",
      "4            Iraq               4470.51            5            2022  a\n",
      "..            ...                   ...          ...             ... ..\n",
      "185        Uganda                  0.00          186            2022  a\n",
      "186       Uruguay                  0.00          187            2022  a\n",
      "187       Vanuatu                  0.00          188            2022  a\n",
      "188        Zambia                  0.00          189            2022  a\n",
      "189      Zimbabwe                  0.00          190            2022  a\n",
      "\n",
      "[190 rows x 5 columns]\n"
     ]
    }
   ],
   "source": [
    "#Read the Excel file\n",
    "df = pd.read_excel('C:/Users/Hessah/OneDrive/Desktop/oil_data.xlsx')\n",
    "print(df)"
   ]
  },
  {
   "cell_type": "code",
   "execution_count": 4,
   "id": "68e40d24",
   "metadata": {},
   "outputs": [],
   "source": [
    "\n",
    "# Step 3: Translate the column\n",
    "#df['column_name_to_translate'] = df['column_name_to_translate'].apply(lambda x: translate_text(x, 'target_language'))\n",
    "df['a1'] = df['a1'].apply(lambda x: translate_text(x, 'ar'))\n",
    "\n"
   ]
  },
  {
   "cell_type": "code",
   "execution_count": 6,
   "id": "e2eff01e",
   "metadata": {},
   "outputs": [],
   "source": [
    "# Step 4: Save the translated data\n",
    "df.to_excel('C:/Users/Hessah/OneDrive/Desktop/oil_data.xlsx')"
   ]
  },
  {
   "cell_type": "code",
   "execution_count": null,
   "id": "e43de4da",
   "metadata": {},
   "outputs": [],
   "source": []
  }
 ],
 "metadata": {
  "kernelspec": {
   "display_name": "Python 3 (ipykernel)",
   "language": "python",
   "name": "python3"
  },
  "language_info": {
   "codemirror_mode": {
    "name": "ipython",
    "version": 3
   },
   "file_extension": ".py",
   "mimetype": "text/x-python",
   "name": "python",
   "nbconvert_exporter": "python",
   "pygments_lexer": "ipython3",
   "version": "3.10.4"
  }
 },
 "nbformat": 4,
 "nbformat_minor": 5
}
